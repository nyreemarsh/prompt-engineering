{
  "nbformat": 4,
  "nbformat_minor": 0,
  "metadata": {
    "colab": {
      "provenance": [],
      "toc_visible": true
    },
    "kernelspec": {
      "name": "python3",
      "display_name": "Python 3"
    },
    "language_info": {
      "name": "python"
    }
  },
  "cells": [
    {
      "cell_type": "markdown",
      "source": [
        "# Topic 1: Prompt Anatomy & Prompt Frameworks\n",
        "\n",
        "**Learning Objectives:**\n",
        "\n",
        "* Learn how to prompt LLM models using API.\n",
        "* Understand the components of LLM prompts.\n",
        "* Learn about different prompt frameworks and their applications.\n",
        "* Practice designing effective prompts for various tasks.\n",
        "\n",
        "**Outline:**\n",
        "\n",
        "1. **Environment Setup**\n",
        "2. **Prompt Anatomy**\n",
        "3. **Prompt Frameworks**\n",
        "4. **Assignment 1**"
      ],
      "metadata": {
        "id": "w0WCcr_F4-oP"
      }
    },
    {
      "cell_type": "markdown",
      "source": [
        "## 1. Environment Setup"
      ],
      "metadata": {
        "id": "NOFruKHs76Az"
      }
    },
    {
      "cell_type": "code",
      "source": [
        "# Install openai\n",
        "!pip install openai"
      ],
      "metadata": {
        "id": "YD-GUB6s78er"
      },
      "execution_count": null,
      "outputs": []
    },
    {
      "cell_type": "markdown",
      "source": [
        "**Set API key**\n",
        "\n",
        "**Do not circulate the API keys**\n",
        "\n",
        "*   **account0:**\n",
        "```\n",
        "sk-svcacct-PkNAD9qBWzT6fSM7fDSyTP17I5WZlRMattLWboL8ICPL-zic_Q-6eAnaw2UZN8eT3BlbkFJKQgbDyItJEayaoGDlzPPLbWq-THeB2kEMKLsHuZIGXXD3hWYpll5Ay58SRMUUngA\n",
        "```\n",
        "*   **account1:**\n",
        "```\n",
        "sk-svcacct-tNBKZ1MGSTGAFiYQkeDNy8Ii9yN4TPfzpmwwDbI_btHkKR9IWahMMh-by_y_BNFT3BlbkFJiTSUrVjSbQO990dvszMbyuIMsKd6ORZ-eptgNOCyep_tj-kkjwyvRh1qk-EoYzwA\n",
        "```\n",
        "*   **account2:**\n",
        "```\n",
        "sk-svcacct-ApzYVc4dYVHDhCEDBQ3BxVLVuKABj1L_ndEBFhWcLcbp5W7eWL694ZCbFtbLcOoT3BlbkFJkSiq4IWMHbU7JE_Lni_jFCWLy3vojicXxRU6JVICJHH0uoiRiwCM41mr8P3iZrAA\n",
        "```\n",
        "*   **account3:**\n",
        "```\n",
        "sk-svcacct-1JUcTt1VXcWDgsVBy38Mmx8NOYrK3h3sDDWt_8HU53sipCpok0jtn-NClBYL8hwT3BlbkFJR9zcFgVYr8e80chNpl5Y4W25QBMtA06CTCmkXQyTiOmlEp1kaP3ZaCWTJrI5JyQA\n",
        "```\n",
        "*   **account4:**\n",
        "```\n",
        "sk-svcacct-wga39QoJpk62oPTzBcsjoVtBOrNdCCUhVCsh9kV6_owwNRWlUKuJTFCMm29Mu22T3BlbkFJGJFBuOpjUDT1gBe2FcmoLEiNVj1G5GTobu-5O-78Rz3y5OhGAXxIgTxtRKi4-EQA\n",
        "```"
      ],
      "metadata": {
        "id": "2duN-x-D2tMq"
      }
    },
    {
      "cell_type": "code",
      "source": [
        "# Set API key\n",
        "OPENAI_API_KEY=\"your_api_key_here\"\n",
        "\n",
        "from openai import OpenAI\n",
        "\n",
        "client = OpenAI(api_key=OPENAI_API_KEY)"
      ],
      "metadata": {
        "id": "_0_PH_8Fnfhz"
      },
      "execution_count": null,
      "outputs": []
    },
    {
      "cell_type": "markdown",
      "source": [
        "Test OpenAI API"
      ],
      "metadata": {
        "id": "ztDA7lWl5Z4s"
      }
    },
    {
      "cell_type": "code",
      "source": [
        "# Test OpenAI API\n",
        "completion = client.chat.completions.create(\n",
        "    model=\"gpt-4o-mini\",\n",
        "    messages=[\n",
        "        {\"role\": \"system\", \"content\": \"You are a helpful assistant.\"},\n",
        "        {\n",
        "            \"role\": \"user\",\n",
        "            \"content\": \"What is the capital of South Korea?\"\n",
        "        }\n",
        "    ]\n",
        ")\n",
        "\n",
        "print(completion.choices[0].message)"
      ],
      "metadata": {
        "id": "9Qxvsp02nW5y"
      },
      "execution_count": null,
      "outputs": []
    },
    {
      "cell_type": "code",
      "source": [
        "def test_chat_completion_parameters(temperature, max_tokens):\n",
        "    completion = client.chat.completions.create(\n",
        "        model=\"gpt-4o-mini\",\n",
        "        messages=[\n",
        "            {\"role\": \"system\", \"content\": \"You are a helpful assistant.\"},\n",
        "            {\n",
        "                \"role\": \"user\",\n",
        "                \"content\": \"What is prompt engineering?\"\n",
        "            }\n",
        "        ],\n",
        "        temperature=temperature,\n",
        "        max_tokens=max_tokens\n",
        "    )\n",
        "\n",
        "    print(f\"Temperature: {temperature}, Max Tokens: {max_tokens}\")\n",
        "    print(completion.choices[0].message.content)\n",
        "\n",
        "# Test with different parameters\n",
        "test_chat_completion_parameters(temperature=0.2, max_tokens=100)\n",
        "test_chat_completion_parameters(temperature=1.0, max_tokens=50)\n",
        "test_chat_completion_parameters(temperature=1.0, max_tokens=200)"
      ],
      "metadata": {
        "id": "N92ZQTfL6gUJ"
      },
      "execution_count": null,
      "outputs": []
    },
    {
      "cell_type": "markdown",
      "source": [
        "## 2. Prompt Anatomy\n",
        "\n",
        "![prompt_anatomy](https://raw.githubusercontent.com/GSDSAML/prompt-engineering-2024fall/main/prompt_anatomy.png)\n",
        "\n",
        "General elements of prompt\n",
        "\n",
        "*   Task(Instruction): a specific task or instruction you want the model to perform\n",
        "*   Persona(Roles): defines how LLM should behave when responding\n",
        "*   Exemplar(Example): Example of the output or input-output pairs\n",
        "*   Tone: word in the prompt to elicit a particular tone for the output text\n",
        "*   Context: Provides background information or relevant details\n",
        "*   Output format: indicates the type or format of the output\n",
        "\n"
      ],
      "metadata": {
        "id": "CaJwAvF756ZE"
      }
    },
    {
      "cell_type": "markdown",
      "source": [
        "### Task(Instruction)\n",
        "\n",
        "*   Can design effective prompts for various simple tasks by using commands to instruct the model.\n",
        "  *   Ex) \"Write\", \"Classify\", \"Summarize\", \"Translate\", \"Order\", etc.\n",
        "*   Structure:\n",
        "  *   Place instructions at the beginning or end of the prompt.\n",
        "  *   Another recommendation is to use some clear separator like \"###\" to separate the instruction and context.\n",
        "      *   \n",
        "      ```\n",
        "      ### Translate the text to Spanish ###\n",
        "      Text: \"hello!\"\n",
        "      ```"
      ],
      "metadata": {
        "id": "rUXXIUiFm7zN"
      }
    },
    {
      "cell_type": "code",
      "source": [
        "# Example 1: Text classification\n",
        "completion = client.chat.completions.create(\n",
        "    model=\"gpt-4o-mini\",\n",
        "    messages=[\n",
        "        {\"role\": \"system\", \"content\": \"You are a helpful assistant.\"},\n",
        "        {\n",
        "            \"role\": \"user\",\n",
        "            \"content\": \"\"\"Classify the text into neutral, negative or positive.\n",
        "            Text: I think the food was okay.\n",
        "            Sentiment:\"\"\"\n",
        "        }\n",
        "    ],\n",
        "    temperature = 0.0\n",
        ")\n",
        "\n",
        "print(completion.choices[0].message.content)"
      ],
      "metadata": {
        "id": "Sw22qtTMuDpS"
      },
      "execution_count": null,
      "outputs": []
    },
    {
      "cell_type": "code",
      "source": [
        "# Example 2: Text summarization\n",
        "completion = client.chat.completions.create(\n",
        "    model=\"gpt-4o-mini\",\n",
        "    messages=[\n",
        "        {\"role\": \"system\", \"content\": \"You are a helpful assistant.\"},\n",
        "        {\n",
        "            \"role\": \"user\",\n",
        "            \"content\": \"\"\"Explain the below in one sentence.\n",
        "            The dominant sequence transduction models are based on complex recurrent or convolutional neural networks in an encoder-decoder configuration.\\\n",
        "            The best performing models also connect the encoder and decoder through an attention mechanism. \\\n",
        "            We propose a new simple network architecture, the Transformer, based solely on attention mechanisms, dispensing with recurrence and convolutions entirely. \\\n",
        "            Experiments on two machine translation tasks show these models to be superior in quality while being more parallelizable and requiring significantly less time to train. \\\n",
        "            Our model achieves 28.4 BLEU on the WMT 2014 English-to-German translation task, improving over the existing best results, including ensembles by over 2 BLEU. \\\n",
        "            On the WMT 2014 English-to-French translation task, our model establishes a new single-model state-of-the-art BLEU score of 41.8 after training for 3.5 days on eight GPUs, a small fraction of the training costs of the best models from the literature.\\\n",
        "            We show that the Transformer generalizes well to other tasks by applying it successfully to English constituency parsing both with large and limited training data.\"\"\"\n",
        "        }\n",
        "    ],\n",
        "    temperature = 0.0\n",
        ")\n",
        "\n",
        "print(completion.choices[0].message.content)\n"
      ],
      "metadata": {
        "id": "odJ0tSIffJ6b"
      },
      "execution_count": null,
      "outputs": []
    },
    {
      "cell_type": "markdown",
      "source": [
        "### Persona(Role)\n",
        "\n",
        "*   Definition:\n",
        "  *   Adding a role to the prompt defines how LLM should behave or the persona it should adopt when responding.\n",
        "  *   This extra context allows for tailored and specific outputs.\n",
        "*   Structure:\n",
        "  *   Act as persona X, or provide outputs that persona X would create or from now you are X.\n",
        "  *   Persona can be: a fitness coach, a doctor, a financial expert, a math teacher,...\n",
        "  *   Can be nonliving things, like a translator, a Linux terminal, a movie character,...\n",
        "*   In chat completion API, you can set the role in the system message or the user message."
      ],
      "metadata": {
        "id": "NhcpHlrfuirv"
      }
    },
    {
      "cell_type": "code",
      "source": [
        "# Example 1: Setting a role in the system message\n",
        "completion = client.chat.completions.create(\n",
        "    model=\"gpt-4o-mini\",\n",
        "    messages=[\n",
        "        {\"role\": \"system\", \"content\": \"You are a sophisticated translator, able to translate any language to English.\"},\n",
        "        {\n",
        "            \"role\": \"user\",\n",
        "            \"content\": \"Hola Mundo.\"\n",
        "        }\n",
        "    ],\n",
        "    temperature = 0.0\n",
        ")\n",
        "print(\"Output with role:\")\n",
        "print(completion.choices[0].message.content)\n",
        "\n",
        "# Example 1 without a role\n",
        "completion = client.chat.completions.create(\n",
        "    model=\"gpt-4o-mini\",\n",
        "    messages=[\n",
        "        {\"role\": \"system\", \"content\": \"You are a helpful assistant.\"},\n",
        "        {\n",
        "            \"role\": \"user\",\n",
        "            \"content\": \"Hola Mundo.\"\n",
        "        }\n",
        "    ],\n",
        "    temperature = 0.0\n",
        ")\n",
        "print(\"Output without role:\")\n",
        "print(completion.choices[0].message.content)"
      ],
      "metadata": {
        "id": "DBEw8eNUu7V-"
      },
      "execution_count": null,
      "outputs": []
    },
    {
      "cell_type": "code",
      "source": [
        "# Example 2 with a detailed role\n",
        "completion = client.chat.completions.create(\n",
        "    model=\"gpt-4o-mini\",\n",
        "    messages=[\n",
        "        {\"role\": \"system\", \"content\": \"You are a helpful assistant.\"},\n",
        "        {\n",
        "            \"role\": \"user\",\n",
        "            \"content\": \"You are an expert AI research scientist specialized in natural language processing, tell me recent tredings of NLP research in 100 words.\"\n",
        "        }\n",
        "    ],\n",
        "    temperature = 0.0\n",
        ")\n",
        "\n",
        "print(\"Output with detailed role:\")\n",
        "print(completion.choices[0].message.content)\n",
        "\n",
        "# Example 2 without detailed role\n",
        "completion = client.chat.completions.create(\n",
        "    model=\"gpt-4o-mini\",\n",
        "    messages=[\n",
        "        {\"role\": \"system\", \"content\": \"You are a helpful assistant.\"},\n",
        "        {\n",
        "            \"role\": \"user\",\n",
        "            \"content\": \"Tell me recent tredings of NLP research in 100 words.\"\n",
        "        }\n",
        "    ],\n",
        "    temperature = 0.0\n",
        ")\n",
        "\n",
        "print(\"\\n\\nOutput without detailed role:\")\n",
        "print(completion.choices[0].message.content)"
      ],
      "metadata": {
        "id": "NQ7IeYLnzR8S"
      },
      "execution_count": null,
      "outputs": []
    },
    {
      "cell_type": "markdown",
      "source": [
        "### Exemplar(Example)\n",
        "\n",
        "*   Examples provide the kind of desired output pattern for the model in response to a given prompt.\n",
        "*   They help to clarify the expectations and guide the model toward generating more appropriate and relevant responses.\n",
        "*   Exemplars help to minimize ambiguity in the prompt, which can lead to more accurate and relevant outputs from the model.\n",
        "*   Structure:\n",
        "  *   Provide the output format or pattern for the model to follow.\n",
        "  *   Few-shot examples to teach the model a new task.\n"
      ],
      "metadata": {
        "id": "F7QRYwSU4w83"
      }
    },
    {
      "cell_type": "code",
      "source": [
        "# with exmplar\n",
        "completion = client.chat.completions.create(\n",
        "    model=\"gpt-4o-mini\",\n",
        "    messages=[\n",
        "        {\"role\": \"system\", \"content\": \"You are a helpful assistant.\"},\n",
        "        {\n",
        "            \"role\": \"user\",\n",
        "            \"content\": \"\"\"\n",
        "            Using a QWERTY keyboard, you should convert the given word to the correct word.\n",
        "\n",
        "            Input: qieks\n",
        "            Output: world\n",
        "\n",
        "            Input: ptsmhr\n",
        "            Output: orange\n",
        "\n",
        "            Input: gwkki\n",
        "            Output: hello\n",
        "\n",
        "            Input: oeinor\n",
        "            Output:\n",
        "            \"\"\"\n",
        "        }\n",
        "    ],\n",
        "    temperature = 0.0\n",
        ")\n",
        "print(\"With exemplar:\")\n",
        "print(completion.choices[0].message.content)\n",
        "\n",
        "# without exemplar\n",
        "completion = client.chat.completions.create(\n",
        "    model=\"gpt-4o-mini\",\n",
        "    messages=[\n",
        "        {\"role\": \"system\", \"content\": \"You are a helpful assistant.\"},\n",
        "        {\n",
        "            \"role\": \"user\",\n",
        "            \"content\": \"\"\"\n",
        "            Using a QWERTY keyboard, you should convert the given word to the correct word.\n",
        "\n",
        "            Input: oeinor\n",
        "            Output:\n",
        "            \"\"\"\n",
        "        }\n",
        "    ],\n",
        "    temperature = 0.0\n",
        ")\n",
        "\n",
        "print(\"\\n\\nWithout exemplar:\")\n",
        "print(completion.choices[0].message.content)\n"
      ],
      "metadata": {
        "id": "GOrGA7PKKlJw"
      },
      "execution_count": null,
      "outputs": []
    },
    {
      "cell_type": "markdown",
      "source": [
        "### Tone\n",
        "\n",
        "*   Definition: a tone-of-voice word in the prompt to elicit a particular tone for the output text\n",
        "  *   Tone modifiers in the form of prompts empower you to go beyond the \"what\" of communication and delve into the \"how\"\n"
      ],
      "metadata": {
        "id": "VlDc5FaT2dGx"
      }
    },
    {
      "cell_type": "code",
      "source": [
        "# Example with tone\n",
        "completion = client.chat.completions.create(\n",
        "    model=\"gpt-4o-mini\",\n",
        "    messages=[\n",
        "        {\"role\": \"system\", \"content\": \"You are a helpful assistant.\"},\n",
        "        {\n",
        "            \"role\": \"user\",\n",
        "            \"content\": \"Generate a tweet about a cat in a humorous and witty tone.\"\n",
        "        }\n",
        "    ],\n",
        "    temperature = 0.0\n",
        ")\n",
        "print(\"Output with humorous and witty tone:\")\n",
        "print(completion.choices[0].message.content)\n",
        "\n",
        "# Example with another tone\n",
        "completion = client.chat.completions.create(\n",
        "    model=\"gpt-4o-mini\",\n",
        "    messages=[\n",
        "        {\"role\": \"system\", \"content\": \"You are a helpful assistant.\"},\n",
        "        {\n",
        "            \"role\": \"user\",\n",
        "            \"content\": \"Generate a tweet about a cat in a formal and professional tone.\"\n",
        "        }\n",
        "    ],\n",
        "    temperature = 0.0\n",
        ")\n",
        "print(\"Output with formal and professional tone:\")\n",
        "print(completion.choices[0].message.content)"
      ],
      "metadata": {
        "id": "XBg47VYE5_L4"
      },
      "execution_count": null,
      "outputs": []
    },
    {
      "cell_type": "markdown",
      "source": [
        "### Context\n",
        "\n",
        "*   Context provides the necessary background information by specifying the situation or the scenario in which the chatbot has to generate the response.\n",
        "*   By specifying the context, the chatbot understands that it has to generate the output according to the specified situation."
      ],
      "metadata": {
        "id": "5ZJGbmJ1QpDD"
      }
    },
    {
      "cell_type": "code",
      "source": [
        "# Example with context\n",
        "completion = client.chat.completions.create(\n",
        "    model=\"gpt-4o-mini\",\n",
        "    messages=[\n",
        "        {\"role\": \"system\", \"content\": \"You are a helpful assistant.\"},\n",
        "        {\n",
        "            \"role\": \"user\",\n",
        "            \"content\": \"I'm totally new to programming, and don't know the programming-related terms. Explain the database in one sentence.\"\n",
        "        }\n",
        "    ],\n",
        "    temperature = 0.0\n",
        ")\n",
        "print(\"Output with context:\")\n",
        "print(completion.choices[0].message.content)\n",
        "\n",
        "# Example without context\n",
        "completion = client.chat.completions.create(\n",
        "    model=\"gpt-4o-mini\",\n",
        "    messages=[\n",
        "        {\"role\": \"system\", \"content\": \"You are a helpful assistant.\"},\n",
        "        {\n",
        "            \"role\": \"user\",\n",
        "            \"content\": \"Explain the database in one sentence.\"\n",
        "        }\n",
        "    ],\n",
        "    temperature = 0.0\n",
        ")\n",
        "print(\"\\n\\nOutput without context:\")\n",
        "print(completion.choices[0].message.content)"
      ],
      "metadata": {
        "id": "xD3KAFgU5pzf"
      },
      "execution_count": null,
      "outputs": []
    },
    {
      "cell_type": "markdown",
      "source": [
        "### Output format\n",
        "\n",
        "*   LLM’s output is always text, but sometimes we wants structured outputs.\n",
        "*   In some well-trained LLM, we can guide LLM to output a specific output.\n",
        "  *   JSON format\n",
        "  *   CSV format\n",
        "  *   Table format\n",
        "  *   A customized format\n",
        "*   For more information, please check [OpenAI documentation](https://platform.openai.com/docs/guides/structured-outputs)\n"
      ],
      "metadata": {
        "id": "DBj0x5yXTy3h"
      }
    },
    {
      "cell_type": "code",
      "source": [
        "# Example with output format (JSON)\n",
        "completion = client.chat.completions.create(\n",
        "    model=\"gpt-4o-mini\",\n",
        "    messages=[\n",
        "        {\"role\": \"system\", \"content\": \"You are a helpful assistant.\"},\n",
        "        {\n",
        "            \"role\": \"user\",\n",
        "            \"content\": \"\"\"\n",
        "            Generate a JSON object with the following keys: \"name\", \"age\", \"city\".\n",
        "            \"\"\"\n",
        "        }\n",
        "    ],\n",
        "    temperature = 0.0\n",
        ")\n",
        "print(\"Output with JSON format:\")\n",
        "print(completion.choices[0].message.content)\n",
        "\n",
        "# Output with response_format\n",
        "completion = client.chat.completions.create(\n",
        "    model=\"gpt-4o-mini\",\n",
        "    messages=[\n",
        "        {\"role\": \"system\", \"content\": \"You are a helpful assistant.\"},\n",
        "        {\n",
        "            \"role\": \"user\",\n",
        "            \"content\": \"\"\"\n",
        "            Generate a JSON object with the following keys: \"name\", \"age\", \"city\".\n",
        "            \"\"\"\n",
        "        }\n",
        "    ],\n",
        "    temperature = 0.0,\n",
        "    response_format={\"type\": \"json_object\"}\n",
        ")\n",
        "print(\"\\n\\nOutput with JSON format with response_format parameter:\")\n",
        "print(completion.choices[0].message.content)\n",
        "\n",
        "\n",
        "# Example without output format\n",
        "completion = client.chat.completions.create(\n",
        "    model=\"gpt-4o-mini\",\n",
        "    messages=[\n",
        "        {\"role\": \"system\", \"content\": \"You are a helpful assistant.\"},\n",
        "        {\n",
        "            \"role\": \"user\",\n",
        "            \"content\": \"\"\"\n",
        "            Generate information about a person with name, age, and city.\n",
        "            \"\"\"\n",
        "        }\n",
        "    ],\n",
        "    temperature = 0.0\n",
        ")\n",
        "print(\"\\n\\nOutput without format:\")\n",
        "print(completion.choices[0].message.content)\n"
      ],
      "metadata": {
        "id": "J0NDyEYJUd-I"
      },
      "execution_count": null,
      "outputs": []
    },
    {
      "cell_type": "markdown",
      "source": [
        "## 3. Prompt Frameworks\n",
        "\n",
        "*   **Prompt Framework** provides a structured framework for influencing the responses generated by language models.\n",
        "*   This methodical approach makes it possible to obtain coherent, specific responses that are adapted to a variety of tasks."
      ],
      "metadata": {
        "id": "LAX1s0uh_5L3"
      }
    },
    {
      "cell_type": "markdown",
      "source": [
        "### Task 1: Generate self-introduction"
      ],
      "metadata": {
        "id": "ZbUdEDGBarqT"
      }
    },
    {
      "cell_type": "code",
      "source": [
        "completion = client.chat.completions.create(\n",
        "    model=\"gpt-4o-mini\",\n",
        "    ############# TODO: Modify here #############\n",
        "    messages=[\n",
        "        {\"role\": \"system\", \"content\": \"You are a helpful assistant.\"},\n",
        "        {\n",
        "            \"role\": \"user\",\n",
        "            \"content\": \"Generate a self-introduction.\"\n",
        "        }\n",
        "    ],\n",
        "    #############################################\n",
        "    temperature = 0.0\n",
        ")\n",
        "\n",
        "print(completion.choices[0].message.content)"
      ],
      "metadata": {
        "id": "N2xZDVFOa_fW"
      },
      "execution_count": null,
      "outputs": []
    },
    {
      "cell_type": "markdown",
      "source": [
        "For this task, we will apply the RTF framework for better output.\n",
        "\n",
        "*   Role (R)\n",
        "  *   Defining the character of the AI\n",
        "  *   Ex) a new developer interested in AI\n",
        "*   Task (T)\n",
        "  *   Outlining the desired action\n",
        "  *   Ex) write a self-introduction\n",
        "*   Format (F)\n",
        "  *   Structuring the Response\n",
        "  *   Ex) a concise sentence of no more than 100 words"
      ],
      "metadata": {
        "id": "0A8djwmObd0b"
      }
    },
    {
      "cell_type": "code",
      "source": [
        "completion = client.chat.completions.create(\n",
        "    model=\"gpt-4o-mini\",\n",
        "    ############# TODO: Modify here #############\n",
        "    messages=[\n",
        "        {\"role\": \"system\", \"content\": \"You are a helpful assistant.\"}, ### You can set the role here\n",
        "        {\n",
        "            \"role\": \"user\",\n",
        "            \"content\": \"\"\"\n",
        "            You are a new developer interested in AI.\n",
        "            Please write a self-introduction, in a concise sentence of no more than 100 words.\n",
        "            \"\"\"\n",
        "        }\n",
        "    ],\n",
        "    #############################################\n",
        "    temperature = 0.0\n",
        ")\n",
        "\n",
        "print(completion.choices[0].message.content)"
      ],
      "metadata": {
        "id": "lRYAVhc0b22Z"
      },
      "execution_count": null,
      "outputs": []
    },
    {
      "cell_type": "markdown",
      "source": [
        "### Task 2: Create a blog post"
      ],
      "metadata": {
        "id": "PQyzHmlzdQ1Z"
      }
    },
    {
      "cell_type": "code",
      "source": [
        "completion = client.chat.completions.create(\n",
        "    model=\"gpt-4o-mini\",\n",
        "    ############# TODO: Modify here #############\n",
        "    messages=[\n",
        "        {\"role\": \"system\", \"content\": \"You are a helpful assistant.\"},\n",
        "        {\n",
        "            \"role\": \"user\",\n",
        "            \"content\": \"Create a blog post.\"\n",
        "        }\n",
        "    ],\n",
        "    #############################################\n",
        "    temperature = 0.0,\n",
        "    max_tokens=512\n",
        ")\n",
        "\n",
        "print(completion.choices[0].message.content)"
      ],
      "metadata": {
        "id": "oRNCy1rvajTE"
      },
      "execution_count": null,
      "outputs": []
    },
    {
      "cell_type": "markdown",
      "source": [
        "For this task, we will apply the RISEN framework for better output.\n",
        "\n",
        "*   Role (R)\n",
        "  *   Defining the character of the AI\n",
        "  *   Ex) Technical blogger\n",
        "*   Instruction (I)\n",
        "  *   Clear guidelines on what the AI should do.\n",
        "  *   Ex) Write a blog post about the benefits of AI\n",
        "*   Steps (S)\n",
        "  *   Specific tasks or phases the AI needs to follow to fulfill the prompt's request.\n",
        "  *   Ex) 1. Explain AI techniques 2. Write benefits of AI 3. Example application\n",
        "*   End goal (E)\n",
        "  *   Final objective or outcome the AI’s response should achieve.\n",
        "  *   Ex) The explanation should be clear and understandable for a high school student.\n",
        "*   Narrowing (N)\n",
        "  *   Involves specifying constraints or focusing on particular aspects of the topic to avoid overly broad or irrelevant responses.\n",
        "  *   Ex) Focus only on the basics without delving into technical details."
      ],
      "metadata": {
        "id": "UXUp64fXd3kz"
      }
    },
    {
      "cell_type": "code",
      "source": [
        "completion = client.chat.completions.create(\n",
        "    model=\"gpt-4o-mini\",\n",
        "    ############# TODO: Modify here #############\n",
        "    messages=[\n",
        "        {\"role\": \"system\", \"content\": \"You are a technical blogger.\"},\n",
        "        {\n",
        "            \"role\": \"user\",\n",
        "            \"content\": \"\"\"\n",
        "            Write a blog post about the benefits of AI.\n",
        "            1. Explain AI techniques. 2. Write benefits of AI. 3. Example application.\n",
        "            The explanation should be clear and understandable for a high school student.\n",
        "            Focus only on the basics without delving into technical details.\n",
        "            \"\"\"\n",
        "        }\n",
        "    ],\n",
        "    #############################################\n",
        "    temperature = 0.0,\n",
        "    max_tokens=512\n",
        ")\n",
        "\n",
        "print(completion.choices[0].message.content)"
      ],
      "metadata": {
        "id": "aDgrHauTgcy1"
      },
      "execution_count": null,
      "outputs": []
    },
    {
      "cell_type": "markdown",
      "source": [
        "### Task 3: Create marketing strategies"
      ],
      "metadata": {
        "id": "Z02Q9DoFg8kF"
      }
    },
    {
      "cell_type": "code",
      "source": [
        "completion = client.chat.completions.create(\n",
        "    model=\"gpt-4o-mini\",\n",
        "    ############# TODO: Modify here #############\n",
        "    messages=[\n",
        "        {\"role\": \"system\", \"content\": \"You are a helpful assistant.\"},\n",
        "        {\n",
        "            \"role\": \"user\",\n",
        "            \"content\": \"Create a marketing strategy.\"\n",
        "        }\n",
        "    ],\n",
        "    #############################################\n",
        "    temperature = 0.0,\n",
        "    max_tokens=512\n",
        ")\n",
        "\n",
        "print(completion.choices[0].message.content)"
      ],
      "metadata": {
        "id": "i-dncUnihL-Q"
      },
      "execution_count": null,
      "outputs": []
    },
    {
      "cell_type": "markdown",
      "source": [
        "For this task, we will apply the RODES framework for better output.\n",
        "\n",
        "\n",
        "*   Role (R)\n",
        "  *   Clarifies the AI's position or function in relation to the prompt, setting the stage for the interaction.\n",
        "  *   Ex) Marketing expert\n",
        "*   Objective (O)\n",
        "  *   Defines the ultimate goal the AI is to achieve, directing its focus and efforts.\n",
        "  *   Ex) announcement of the first launch of a new product\n",
        "*   Details (D)\n",
        "  *   Offers specific information or criteria to guide the AI’s response, ensuring it is aligned with the prompt’s requirements.\n",
        "  *   Ex) Describe your strategy around social media and digital advertising.\n",
        "*   Examples (E)\n",
        "  *   Provides illustrative scenarios or outcomes to help the AI understand the context and expectations.\n",
        "  *   Ex) For example, producing sponsored content using YouTube influencer.\n",
        "*   Sense Check (S)\n",
        "  *   Encourages a final review of the AI's response to ensure it accurately meets the prompt's objectives and details.\n",
        "  *   Ex) Please also include a realistic review so that I can confirm that the strategy is feasible."
      ],
      "metadata": {
        "id": "Lsr1BQaUhX2J"
      }
    },
    {
      "cell_type": "code",
      "source": [
        "completion = client.chat.completions.create(\n",
        "    model=\"gpt-4o-mini\",\n",
        "    ############# TODO: Modify here #############\n",
        "    messages=[\n",
        "        {\"role\": \"system\", \"content\": \"You are a marketing expert.\"},\n",
        "        {\n",
        "            \"role\": \"user\",\n",
        "            \"content\": \"\"\"\n",
        "            Create a marketing strategy for the announcement of the first launch of a new product.\n",
        "            Describe your strategy around social media and digital advertising.\n",
        "            For example, producing sponsored contents using YouTube influencer.\n",
        "            Please also include a realistic review so that I can confirm that the strategy is feasible.\n",
        "            \"\"\"\n",
        "        }\n",
        "    ],\n",
        "    #############################################\n",
        "    temperature = 0.0,\n",
        "    max_tokens=512\n",
        ")\n",
        "\n",
        "print(completion.choices[0].message.content)\n"
      ],
      "metadata": {
        "id": "1Wo1u1nbjUFi"
      },
      "execution_count": null,
      "outputs": []
    },
    {
      "cell_type": "markdown",
      "source": [
        "# Assignment 1: Prompt Anatomy & Prompt Frameworks\n",
        "\n",
        "For given 7 tasks below, please **select 5 tasks** and modify given prompt for the better output."
      ],
      "metadata": {
        "id": "bICWWJCPGQ_6"
      }
    },
    {
      "cell_type": "markdown",
      "source": [
        "## Task 4: Generate an advertising slogan for the product.\n"
      ],
      "metadata": {
        "id": "Lp60Qcc0GlKN"
      }
    },
    {
      "cell_type": "code",
      "source": [
        "completion = client.chat.completions.create(\n",
        "    model=\"gpt-4o-mini\",\n",
        "    ############# TODO: Modify here #############\n",
        "    messages=[\n",
        "        {\"role\": \"system\", \"content\": \"You are a helpful assistant.\"},\n",
        "        {\n",
        "            \"role\": \"user\",\n",
        "            \"content\": \"\"\"\n",
        "            Generate an advertising slogan for the mechanical keyboard.\n",
        "            \"\"\"\n",
        "        }\n",
        "    ],\n",
        "    #############################################\n",
        "    temperature = 0.0,\n",
        "    max_tokens=512\n",
        ")\n",
        "\n",
        "print(completion.choices[0].message.content)"
      ],
      "metadata": {
        "id": "IfUyqBpxGg_M"
      },
      "execution_count": null,
      "outputs": []
    },
    {
      "cell_type": "markdown",
      "source": [
        "## Task 5: Generate recipes for the given materials"
      ],
      "metadata": {
        "id": "DnsNW5MIHEne"
      }
    },
    {
      "cell_type": "code",
      "source": [
        "completion = client.chat.completions.create(\n",
        "    model=\"gpt-4o-mini\",\n",
        "    ############# TODO: Modify here #############\n",
        "    messages=[\n",
        "        {\"role\": \"system\", \"content\": \"You are a helpful assistant.\"},\n",
        "        {\n",
        "            \"role\": \"user\",\n",
        "            \"content\": \"\"\"\n",
        "            Generate a simple recipe using these materials: chicken, onion, garlic, squid, rice, soy sauce\n",
        "            \"\"\"\n",
        "        }\n",
        "    ],\n",
        "    #############################################\n",
        "    temperature = 0.0,\n",
        "    max_tokens=512\n",
        ")\n",
        "\n",
        "print(completion.choices[0].message.content)"
      ],
      "metadata": {
        "id": "pKvFZJGwHX5s"
      },
      "execution_count": null,
      "outputs": []
    },
    {
      "cell_type": "markdown",
      "source": [
        "## Task 6: Lyric generator"
      ],
      "metadata": {
        "id": "bbA_IAT5HYyc"
      }
    },
    {
      "cell_type": "code",
      "source": [
        "completion = client.chat.completions.create(\n",
        "    model=\"gpt-4o-mini\",\n",
        "    ############# TODO: Modify here #############\n",
        "    messages=[\n",
        "        {\"role\": \"system\", \"content\": \"You are a helpful assistant.\"},\n",
        "        {\n",
        "            \"role\": \"user\",\n",
        "            \"content\": \"\"\"\n",
        "            Generate lyrics for a song for love.\n",
        "            \"\"\"\n",
        "        }\n",
        "    ],\n",
        "    #############################################\n",
        "    temperature = 0.0,\n",
        "    max_tokens=512\n",
        ")\n",
        "\n",
        "print(completion.choices[0].message.content)"
      ],
      "metadata": {
        "id": "WugvG39rICF-"
      },
      "execution_count": null,
      "outputs": []
    },
    {
      "cell_type": "markdown",
      "source": [
        "## Task 7: Planning a team project"
      ],
      "metadata": {
        "id": "GLPzLGn8IDRR"
      }
    },
    {
      "cell_type": "code",
      "source": [
        "completion = client.chat.completions.create(\n",
        "    model=\"gpt-4o-mini\",\n",
        "    ############# TODO: Modify here #############\n",
        "    messages=[\n",
        "        {\"role\": \"system\", \"content\": \"You are a helpful assistant.\"},\n",
        "        {\n",
        "            \"role\": \"user\",\n",
        "            \"content\": \"\"\"\n",
        "            Generate a team project plan for the web application.\n",
        "            \"\"\"\n",
        "        }\n",
        "    ],\n",
        "    #############################################\n",
        "    temperature = 0.0,\n",
        "    max_tokens=512\n",
        ")\n",
        "\n",
        "print(completion.choices[0].message.content)"
      ],
      "metadata": {
        "id": "fV6KRiPn_DGD"
      },
      "execution_count": null,
      "outputs": []
    },
    {
      "cell_type": "markdown",
      "source": [
        "## Task 8: Chatbot for customer service"
      ],
      "metadata": {
        "id": "nBnPthaqnjbE"
      }
    },
    {
      "cell_type": "code",
      "source": [
        "completion = client.chat.completions.create(\n",
        "    model=\"gpt-4o-mini\",\n",
        "    ############# TODO: Modify here #############\n",
        "    messages=[\n",
        "        {\"role\": \"system\", \"content\": \"You are a helpful assistant.\"},\n",
        "        {\n",
        "            \"role\": \"user\",\n",
        "            \"content\": \"\"\"\n",
        "            Create a response to the customer's delayed delivery complaint.\n",
        "            \"\"\"\n",
        "        }\n",
        "    ],\n",
        "    #############################################\n",
        "    temperature = 0.0,\n",
        "    max_tokens=512\n",
        ")\n",
        "\n",
        "print(completion.choices[0].message.content)"
      ],
      "metadata": {
        "id": "wvOtQdpkn8WS"
      },
      "execution_count": null,
      "outputs": []
    },
    {
      "cell_type": "markdown",
      "source": [
        "## Task 9: Joke generator"
      ],
      "metadata": {
        "id": "6LDmTJYCpWaW"
      }
    },
    {
      "cell_type": "code",
      "source": [
        "completion = client.chat.completions.create(\n",
        "    model=\"gpt-4o-mini\",\n",
        "    ############# TODO: Modify here #############\n",
        "    messages=[\n",
        "        {\"role\": \"system\", \"content\": \"You are a helpful assistant.\"},\n",
        "        {\n",
        "            \"role\": \"user\",\n",
        "            \"content\": \"\"\"\n",
        "            Make a joke about a programmer.\n",
        "            \"\"\"\n",
        "        }\n",
        "    ],\n",
        "    #############################################\n",
        "    temperature = 0.0,\n",
        "    max_tokens=512\n",
        ")\n",
        "\n",
        "print(completion.choices[0].message.content)"
      ],
      "metadata": {
        "id": "CPFVFYs-p9Lk"
      },
      "execution_count": null,
      "outputs": []
    },
    {
      "cell_type": "markdown",
      "source": [
        "## Task 10: Novel project idea generator"
      ],
      "metadata": {
        "id": "9Xdl6030qNPZ"
      }
    },
    {
      "cell_type": "code",
      "source": [
        "completion = client.chat.completions.create(\n",
        "    model=\"gpt-4o-mini\",\n",
        "    ############# TODO: Modify here #############\n",
        "    messages=[\n",
        "        {\"role\": \"system\", \"content\": \"You are a helpful assistant.\"},\n",
        "        {\n",
        "            \"role\": \"user\",\n",
        "            \"content\": \"\"\"\n",
        "            Suggest a novel idea for the prompt engineering project.\n",
        "            \"\"\"\n",
        "        }\n",
        "    ],\n",
        "    #############################################\n",
        "    temperature = 0.0,\n",
        "    max_tokens=512\n",
        ")\n",
        "\n",
        "print(completion.choices[0].message.content)"
      ],
      "metadata": {
        "id": "Qhl-j1vMqGws"
      },
      "execution_count": null,
      "outputs": []
    }
  ]
}